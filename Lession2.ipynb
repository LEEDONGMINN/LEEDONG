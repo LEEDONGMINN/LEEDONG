{
  "nbformat": 4,
  "nbformat_minor": 0,
  "metadata": {
    "colab": {
      "name": "Lession2.ipynb",
      "provenance": [],
      "collapsed_sections": [],
      "authorship_tag": "ABX9TyMd+i1P2iWwMUMk9YrbPGce",
      "include_colab_link": true
    },
    "kernelspec": {
      "name": "python3",
      "display_name": "Python 3"
    },
    "language_info": {
      "name": "python"
    }
  },
  "cells": [
    {
      "cell_type": "markdown",
      "metadata": {
        "id": "view-in-github",
        "colab_type": "text"
      },
      "source": [
        "<a href=\"https://colab.research.google.com/github/slowspeedup/LEEDONG/blob/main/Lession2.ipynb\" target=\"_parent\"><img src=\"https://colab.research.google.com/assets/colab-badge.svg\" alt=\"Open In Colab\"/></a>"
      ]
    },
    {
      "cell_type": "markdown",
      "source": [
        "* 파이썬 2장\n",
        " * 변수와 Input() 함수"
      ],
      "metadata": {
        "id": "YorpPJnMB8jm"
      }
    },
    {
      "cell_type": "code",
      "source": [
        "num1 = 100;\n",
        "num2 = 200;\n",
        "result1 = num1 + num2;\n",
        "result2 = num1 - num2;\n",
        "result3 = num1 / num2;\n",
        "result4 = num1 * num2;\n",
        "\n",
        "\n",
        "print(num1, \"+\", num2, \"=\",result1);\n",
        "print(num1, \"-\", num2, \"=\",result2);\n",
        "print(num1, \"/\", num2, \"=\",result3);\n",
        "print(num1, \"*\", num2, \"=\",result4);"
      ],
      "metadata": {
        "colab": {
          "base_uri": "https://localhost:8080/"
        },
        "id": "HtKN7eyWDwcr",
        "outputId": "d38b5bfc-efcc-4433-b40b-847c8dcdea4f"
      },
      "execution_count": null,
      "outputs": [
        {
          "output_type": "stream",
          "name": "stdout",
          "text": [
            "100 + 200 = 300\n",
            "100 - 200 = -100\n",
            "100 / 200 = 0.5\n",
            "100 * 200 = 20000\n"
          ]
        }
      ]
    },
    {
      "cell_type": "markdown",
      "source": [
        "* Input() 함수 예제"
      ],
      "metadata": {
        "id": "Dhsm7x3TGqNv"
      }
    },
    {
      "cell_type": "code",
      "source": [
        "num1 = int(input(\"첫번재 숫자를 입력 ==>\"));\n",
        "num2 = int(input(\"두번재 숫자를 입력 ==>\"));\n",
        "result1 =   num1 +   num2;\n",
        "result2 = num1 - num2;\n",
        "result3 = num1 / num2;\n",
        "result4 = num1 * num2;\n",
        "\n",
        "print(num1,\"+\",num2,\"=\",result1);\n",
        "print(num1, \"-\", num2, \"=\",result2);\n",
        "print(num1, \"/\", num2, \"=\",result3);\n",
        "print(num1, \"*\", num2, \"=\",result4);"
      ],
      "metadata": {
        "colab": {
          "base_uri": "https://localhost:8080/"
        },
        "id": "U5xSU5H-GpFV",
        "outputId": "fc277a44-8c53-4c89-cf5e-ee1718fa162c"
      },
      "execution_count": 12,
      "outputs": [
        {
          "output_type": "stream",
          "name": "stdout",
          "text": [
            "첫번재 숫자를 입력 ==>100\n",
            "두번재 숫자를 입력 ==>200\n",
            "100 + 200 = 300\n",
            "100 - 200 = -100\n",
            "100 / 200 = 0.5\n",
            "100 * 200 = 20000\n"
          ]
        }
      ]
    },
    {
      "cell_type": "code",
      "source": [
        "print(\"** 논술형 문제 - input() 함수를 이용한 간단한 계산기\");\n",
        "num1 = float(input(\"첫번째 숫자를 입력 : \"));\n",
        "num2 = float(input(\"두번째 숫자를 입력 :      \"));\n",
        "print(num1, \"+\", num2, \"=\",num1+num2);\n",
        "print(num1, \"-\", num2, \"=\",num1-num2);\n",
        "print(num1, \"/\", num2, \"=\",num1*num2);\n",
        "print(num1, \"*\", num2, \"=\",num1/num2);"
      ],
      "metadata": {
        "colab": {
          "base_uri": "https://localhost:8080/"
        },
        "id": "uIZZ2i9YH2Sh",
        "outputId": "2e93067b-f334-4e27-839d-ee27ef21c6f8"
      },
      "execution_count": 14,
      "outputs": [
        {
          "output_type": "stream",
          "name": "stdout",
          "text": [
            "** 논술형 문제 - input() 함수를 이용한 간단한 계산기\n",
            "첫번째 숫자를 입력 : 100\n",
            "두번째 숫자를 입력 : 200\n",
            "100.0 + 200.0 = 300.0\n",
            "100.0 - 200.0 = -100.0\n",
            "100.0 / 200.0 = 20000.0\n",
            "100.0 * 200.0 = 0.5\n"
          ]
        }
      ]
    }
  ]
}