{
  "nbformat": 4,
  "nbformat_minor": 0,
  "metadata": {
    "colab": {
      "name": "3장.ipynb",
      "provenance": [],
      "collapsed_sections": [],
      "authorship_tag": "ABX9TyNlCyllMoW7S11I+ynTJnL4",
      "include_colab_link": true
    },
    "kernelspec": {
      "name": "python3",
      "display_name": "Python 3"
    },
    "language_info": {
      "name": "python"
    }
  },
  "cells": [
    {
      "cell_type": "markdown",
      "metadata": {
        "id": "view-in-github",
        "colab_type": "text"
      },
      "source": [
        "<a href=\"https://colab.research.google.com/github/slowspeedup/LEEDONG/blob/main/3%EC%9E%A5.ipynb\" target=\"_parent\"><img src=\"https://colab.research.google.com/assets/colab-badge.svg\" alt=\"Open In Colab\"/></a>"
      ]
    },
    {
      "cell_type": "markdown",
      "source": [
        "3장 연산자\n",
        "형성평가 º 파운드를 킬로그램으로 변경"
      ],
      "metadata": {
        "id": "okY6omgCzW8E"
      }
    },
    {
      "cell_type": "code",
      "execution_count": 5,
      "metadata": {
        "colab": {
          "base_uri": "https://localhost:8080/"
        },
        "id": "ktxsoIJevorW",
        "outputId": "b22a2a7c-ffb2-457c-89c8-88643e5c59d9"
      },
      "outputs": [
        {
          "output_type": "stream",
          "name": "stdout",
          "text": [
            "파운드를 입력하세요 : 15\n",
            "15.0 파운드(Ib)는 6.8038799999999995 킬로그램입니다\n",
            "킬로그램을 입력하세요 : 15\n",
            "15.0 킬로그램은 33.069345000000006 파운드입니다.\n"
          ]
        }
      ],
      "source": [
        "gbp = float(input(\"파운드를 입력하세요 : \"))\n",
        "\n",
        "print(gbp,\"파운드(Ib)는\" ,gbp * 0.453592,\"킬로그램입니다\")\n",
        "\n",
        "kg = float(input(\"킬로그램을 입력하세요 : \"))\n",
        "print(kg,\"킬로그램은\",kg*2.204623,\"파운드입니다.\")"
      ]
    },
    {
      "cell_type": "code",
      "source": [],
      "metadata": {
        "id": "xKtCzy1-zKIo"
      },
      "execution_count": null,
      "outputs": []
    }
  ]
}