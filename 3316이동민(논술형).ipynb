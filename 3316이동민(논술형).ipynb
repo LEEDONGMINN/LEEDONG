{
  "nbformat": 4,
  "nbformat_minor": 0,
  "metadata": {
    "colab": {
      "name": "3316이동민(논술형).ipynb",
      "provenance": [],
      "collapsed_sections": [],
      "authorship_tag": "ABX9TyOoAPJRSEcgu7BLdWBgNWZY",
      "include_colab_link": true
    },
    "kernelspec": {
      "name": "python3",
      "display_name": "Python 3"
    },
    "language_info": {
      "name": "python"
    }
  },
  "cells": [
    {
      "cell_type": "markdown",
      "metadata": {
        "id": "view-in-github",
        "colab_type": "text"
      },
      "source": [
        "<a href=\"https://colab.research.google.com/github/slowspeedup/LEEDONG/blob/main/3316%EC%9D%B4%EB%8F%99%EB%AF%BC(%EB%85%BC%EC%88%A0%ED%98%95).ipynb\" target=\"_parent\"><img src=\"https://colab.research.google.com/assets/colab-badge.svg\" alt=\"Open In Colab\"/></a>"
      ]
    },
    {
      "cell_type": "markdown",
      "source": [
        "컴퓨터과 3학년 3반 16번 이동민"
      ],
      "metadata": {
        "id": "wCG_QPWlE50b"
      }
    },
    {
      "cell_type": "code",
      "execution_count": 2,
      "metadata": {
        "colab": {
          "base_uri": "https://localhost:8080/"
        },
        "id": "VNTCgXWaEv4h",
        "outputId": "14be6420-a873-4447-f139-1676b8a8688b"
      },
      "outputs": [
        {
          "output_type": "stream",
          "name": "stdout",
          "text": [
            "첫 번째 숫자를 입력하세요 : 5\n",
            "두 번째 숫자를 입력하세요 : 3\n",
            "8.0\n",
            "2.0\n",
            "15.0\n",
            "1.6666666666666667\n",
            "1.0\n",
            "2.0\n",
            "125.0\n"
          ]
        }
      ],
      "source": [
        "num1 = float(input(\"첫 번째 숫자를 입력하세요 : \"))\n",
        "num2 = float(input(\"두 번째 숫자를 입력하세요 : \"))\n",
        "\n",
        "\n",
        "result1 = num1 + num2\n",
        "result2 = num1 - num2\n",
        "result3 = num1 * num2\n",
        "result4 = num1 / num2\n",
        "result5 = num1 // num2\n",
        "result6 = num1 % num2\n",
        "result7 = num1 ** num2\n",
        "\n",
        "\n",
        "print(result1)\n",
        "print(result2)\n",
        "print(result3)\n",
        "print(result4)\n",
        "print(result5)\n",
        "print(result6)\n",
        "print(result7)"
      ]
    }
  ]
}