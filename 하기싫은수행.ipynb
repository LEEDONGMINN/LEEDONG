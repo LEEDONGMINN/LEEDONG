{
  "nbformat": 4,
  "nbformat_minor": 0,
  "metadata": {
    "colab": {
      "provenance": [],
      "authorship_tag": "ABX9TyNoGDtrCDlA74cTxXAQWawj",
      "include_colab_link": true
    },
    "kernelspec": {
      "name": "python3",
      "display_name": "Python 3"
    },
    "language_info": {
      "name": "python"
    }
  },
  "cells": [
    {
      "cell_type": "markdown",
      "metadata": {
        "id": "view-in-github",
        "colab_type": "text"
      },
      "source": [
        "<a href=\"https://colab.research.google.com/github/LEEDONGMINN/LEEDONG/blob/main/%ED%95%98%EA%B8%B0%EC%8B%AB%EC%9D%80%EC%88%98%ED%96%89.ipynb\" target=\"_parent\"><img src=\"https://colab.research.google.com/assets/colab-badge.svg\" alt=\"Open In Colab\"/></a>"
      ]
    },
    {
      "cell_type": "code",
      "execution_count": null,
      "metadata": {
        "id": "T5IVihhqjL6F"
      },
      "outputs": [],
      "source": [
        "# 문자열 길이 비교\n",
        "var0_1 = input(\"첫 번째 문자열 ==>\")\n",
        "var0_2 = input(\"두 번째 문자열 ==>\")\n",
        "\n",
        "len1 = len(var0_1)\n",
        "len2 = len(var0_2)\n",
        "\n",
        "print(\"두 문자열의 길이 차이는\" , diff, \"입니다.\")"
      ]
    },
    {
      "cell_type": "code",
      "source": [
        "text=\"트와이스\"\n",
        "print('원본 문자열 ==>', text)\n",
        "print('변환 문자열 ==> ', text[-1], text[-2], text[-3], text[-4], sep='')"
      ],
      "metadata": {
        "id": "0BLZfnBhjPDw"
      },
      "execution_count": null,
      "outputs": []
    },
    {
      "cell_type": "code",
      "source": [
        "pound = float(input(\"파운드를 입력하세요 ==>\"))\n",
        "print(pound,\"파운드는 \",pound*0.453592,\"킬로그램입니다.\")\n",
        "\n",
        "kg = float(input(\"킬로그램를 입력하세요 ==>\"))\n",
        "print(kg,\"킬로그램는 \",kg*2.20462,\"파운드입니다.\")"
      ],
      "metadata": {
        "id": "hEHM_GmajQO2"
      },
      "execution_count": null,
      "outputs": []
    },
    {
      "cell_type": "code",
      "source": [
        "text = 'Python'\n",
        "\n",
        "print('원본 문자열 ==>', text)\n",
        "print('변환 문자열 ==> ', text[0].lower(),text[1].upper(),text[2].upper(),text[3].upper(),text[4].upper(),text[5].upper(),sep='')"
      ],
      "metadata": {
        "id": "acYk--1hjRhl"
      },
      "execution_count": null,
      "outputs": []
    }
  ]
}