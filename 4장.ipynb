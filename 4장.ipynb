{
  "nbformat": 4,
  "nbformat_minor": 0,
  "metadata": {
    "colab": {
      "name": "4장.ipynb",
      "provenance": [],
      "collapsed_sections": [],
      "authorship_tag": "ABX9TyNF8rLr5EEXvqS7ufwfEk7y",
      "include_colab_link": true
    },
    "kernelspec": {
      "name": "python3",
      "display_name": "Python 3"
    },
    "language_info": {
      "name": "python"
    }
  },
  "cells": [
    {
      "cell_type": "markdown",
      "metadata": {
        "id": "view-in-github",
        "colab_type": "text"
      },
      "source": [
        "<a href=\"https://colab.research.google.com/github/slowspeedup/LEEDONG/blob/main/4%EC%9E%A5.ipynb\" target=\"_parent\"><img src=\"https://colab.research.google.com/assets/colab-badge.svg\" alt=\"Open In Colab\"/></a>"
      ]
    },
    {
      "cell_type": "markdown",
      "source": [
        "4장 \n",
        "\n",
        "데이터 타입"
      ],
      "metadata": {
        "id": "m3WZIpHIb3rS"
      }
    },
    {
      "cell_type": "code",
      "execution_count": 4,
      "metadata": {
        "colab": {
          "base_uri": "https://localhost:8080/"
        },
        "id": "B5OXu27Ca0gv",
        "outputId": "b7e95de7-a691-4a57-aa30-e0ce7cdced87"
      },
      "outputs": [
        {
          "output_type": "stream",
          "name": "stdout",
          "text": [
            "100 변수의 데이터 타입은 <class 'int'>\n",
            "3.14 변수의 데이터 타입은 <class 'float'>\n",
            "안산공고 변수의 데이터 타입은 <class 'str'>\n",
            "True 변수의 데이터 타입은 <class 'bool'>\n"
          ]
        }
      ],
      "source": [
        "var1 = 100\n",
        "var2 = 3.14\n",
        "var3 = \"안산공고\"\n",
        "var4 = True\n",
        "\n",
        "print(var1,\"변수의 데이터 타입은\",type(var1))\n",
        "print(var2,\"변수의 데이터 타입은\",type(var2))\n",
        "print(var3,\"변수의 데이터 타입은\",type(var3))\n",
        "print(var4,\"변수의 데이터 타입은\",type(var4))"
      ]
    },
    {
      "cell_type": "markdown",
      "source": [
        "escape 예제"
      ],
      "metadata": {
        "id": "0f9Dv29Si7GV"
      }
    },
    {
      "cell_type": "code",
      "source": [
        "print(\"\\n줄바꿈\\n연습\")\n",
        "print(\"\\t탭키\\t연습\")\n",
        "print(\"어떤 글자를 \\\"강조\\\"하는 효과\")\n",
        "print(\"어떤 글자를 \\'강조\\'하는 효과\")\n",
        "print(\"\\\\\\\\ 백슬래시 2개 출력\") "
      ],
      "metadata": {
        "colab": {
          "base_uri": "https://localhost:8080/"
        },
        "id": "T0nyHWDci8wh",
        "outputId": "76d22f15-4642-4f83-b8d6-7b3fd1adadd2"
      },
      "execution_count": 7,
      "outputs": [
        {
          "output_type": "stream",
          "name": "stdout",
          "text": [
            "\n",
            "줄바꿈\n",
            "연습\n",
            "\t탭키\t연습\n",
            "어떤 글자를 \"강조\"하는 효과\n",
            "어떤 글자를 '강조'하는 효과\n",
            "\\\\ 백슬래시 2개 출력\n"
          ]
        }
      ]
    },
    {
      "cell_type": "code",
      "source": [
        "hangl = input(\"첫 번째 문자열 ==>\")\n",
        "english = input(\"두 번째 문자열 ==>\")\n",
        "\n",
        "hangl_le = len(hangl)\n",
        "english_le = len(english)\n",
        "print(\"두 문자열의 길이 차이는\" ,hangl_le-english_le,\"입니다.\")"
      ],
      "metadata": {
        "colab": {
          "base_uri": "https://localhost:8080/"
        },
        "id": "PWhJil7LlrjD",
        "outputId": "a07bb349-95e8-4c0d-b51c-262764aa226e"
      },
      "execution_count": 12,
      "outputs": [
        {
          "output_type": "stream",
          "name": "stdout",
          "text": [
            "첫 번째 문자열 ==>뽀롱뽀롱뽀로로\n",
            "두 번째 문자열 ==>응애\n",
            "두 문자열의 길이 차이는 5 입니다.\n"
          ]
        }
      ]
    },
    {
      "cell_type": "markdown",
      "source": [
        "문자열 함수 예제 len(), upper(), lower(), count(), isupper(), islower()"
      ],
      "metadata": {
        "id": "3SQiNIK2olLx"
      }
    },
    {
      "cell_type": "code",
      "source": [
        "str1 = input(\"문자열 입력 : \")\n",
        "print(\"입력된 문자열의 길이 : \", len(str1))\n",
        "print(\"입력된 문자열을 대문자로 : \", str1.upper())\n",
        "print(\"입력된 문자열을 소문자로 변환 : \",str1.lower())\n",
        "print(\"입력된 문자열 중 ansan 몇번 나오는지\",str1.count(\"ansan\"))\n",
        "print(\"입력된 문자열은 대문자 인가요?\",str1.isupper())\n",
        "print(\"입력된 문자열은 소문자 인가요?\",str1.islower() )"
      ],
      "metadata": {
        "colab": {
          "base_uri": "https://localhost:8080/"
        },
        "id": "YJAee-0PotIR",
        "outputId": "723b2175-6673-46d2-f5e7-9efddc888cf9"
      },
      "execution_count": 14,
      "outputs": [
        {
          "output_type": "stream",
          "name": "stdout",
          "text": [
            "문자열 입력 : ansanth\n",
            "입력된 문자열의 길이 :  7\n",
            "입력된 문자열을 대문자로 :  ANSANTH\n",
            "입력된 문자열을 소문자로 변환 :  ansanth\n",
            "입력된 문자열 중 ansan 몇번 나오는지 1\n",
            "입력된 문자열은 대문자 인가요? False\n",
            "입력된 문자열은 소문자 인가요? True\n"
          ]
        }
      ]
    },
    {
      "cell_type": "markdown",
      "source": [
        "let it be 가사 중 Let it be가 몇번 나오는지 출력하는 프로그램"
      ],
      "metadata": {
        "id": "nqDJKAsfq1kR"
      }
    },
    {
      "cell_type": "code",
      "source": [
        "let = \"\"\"When I find myself in times of trouble\n",
        "Mother Mary comes to me\n",
        "Speaking words of wisdom let it be\n",
        "And in my hour of darkness\n",
        "She is standing right in front of me\n",
        "Speaking words of wisdom let it be\n",
        "\n",
        "Let it be let it be\n",
        "Let it be let it be\n",
        "Whisper words of wisdom let it be\n",
        "\n",
        "And when the broken-hearted people\n",
        "Living in the world agree\n",
        "There will be an answer let it be\n",
        "For though they may be parted\n",
        "There is still a chance that they will see\n",
        "There will be an answer let it be\n",
        "\n",
        "Let it be let it be\n",
        "Let it be let it be\n",
        "Yeah there will be an answer let it be\n",
        "Let it be let it be\n",
        "Let it be let it be\n",
        "Whisper words of wisdom let it be\n",
        "\n",
        "Let it be let it be\n",
        "Ah let it be yeah let it be\n",
        "Whisper words of wisdom let it be\n",
        "\n",
        "And when the night is cloudy\n",
        "There is still a light that shines on me\n",
        "Shine on until tomorrow let it be\n",
        "I wake up to the sound of music\n",
        "Mother Mary comes to me\n",
        "Speaking words of wisdom let it be\n",
        "\n",
        "Let it be let it be\n",
        "Let it be yeah let it be\n",
        "Oh there will be an answer let it be\n",
        "Let it be let it be\n",
        "Let it be yeah let it be\n",
        "Whisper words of wisdom let it be\"\"\"\n",
        "be = let.lower()\n",
        "it = be.count(\"let it be\")\n",
        "print(\"let it be는 총 \",it,\"번 나온다\")\n"
      ],
      "metadata": {
        "colab": {
          "base_uri": "https://localhost:8080/"
        },
        "id": "S_quqX9vrBa4",
        "outputId": "940def85-531f-4cbf-c49d-c6eeb6747917"
      },
      "execution_count": 17,
      "outputs": [
        {
          "output_type": "stream",
          "name": "stdout",
          "text": [
            "let it be는 총  36 번 나온다\n"
          ]
        }
      ]
    },
    {
      "cell_type": "markdown",
      "source": [
        "리스트 예제"
      ],
      "metadata": {
        "id": "msGBHvPCyiNZ"
      }
    },
    {
      "cell_type": "code",
      "source": [
        "myList = [10,20,30,\"안산\",\"공고\",\"제트맨\"]\n",
        "print(myList)\n",
        "print(myList[3])\n",
        "print(myList[2:4])"
      ],
      "metadata": {
        "colab": {
          "base_uri": "https://localhost:8080/"
        },
        "id": "2_wB-DGXrBe2",
        "outputId": "df457f1e-7294-429c-f216-4325491db7bb"
      },
      "execution_count": 19,
      "outputs": [
        {
          "output_type": "stream",
          "name": "stdout",
          "text": [
            "[10, 20, 30, '안산', '공고', '제트맨']\n",
            "안산\n",
            "[30, '안산']\n"
          ]
        }
      ]
    },
    {
      "cell_type": "code",
      "source": [
        "str1 = \"안산공고 컴퓨터과 파이썬 수업\"\n",
        "print(str1[0])\n",
        "print(str1[0:4])\n",
        "print(str1[10:13])\n",
        "print(str1[-1])"
      ],
      "metadata": {
        "colab": {
          "base_uri": "https://localhost:8080/"
        },
        "id": "tKmu4cfIzVbo",
        "outputId": "e668bf0d-c5a2-4ac2-8eda-e5c031a5b5a9"
      },
      "execution_count": 23,
      "outputs": [
        {
          "output_type": "stream",
          "name": "stdout",
          "text": [
            "안\n",
            "안산공고\n",
            "파이썬\n",
            "업\n"
          ]
        }
      ]
    },
    {
      "cell_type": "code",
      "source": [
        "a = input(\"원본 문자열 ==> \")\n",
        "a_len = len(a)\n",
        "print(\"반대 문자열 ==> \",end='')\n",
        "for i in range(a_len,0,-1):\n",
        "  print(a[i - 1],end='')"
      ],
      "metadata": {
        "colab": {
          "base_uri": "https://localhost:8080/"
        },
        "id": "eR6tw9XI0R1o",
        "outputId": "f7bf06d4-77bb-40c4-b2e9-572307be48d2"
      },
      "execution_count": 41,
      "outputs": [
        {
          "output_type": "stream",
          "name": "stdout",
          "text": [
            "원본 문자열 ==>하\n",
            "반대 문자열 ==>하"
          ]
        }
      ]
    },
    {
      "cell_type": "code",
      "source": [
        "a = input(\"원본 문자열 ==>\")\n",
        "print(a.swapcase())"
      ],
      "metadata": {
        "colab": {
          "base_uri": "https://localhost:8080/"
        },
        "id": "SXrOe2tu4kz3",
        "outputId": "2c1eb0be-f9a3-4235-9808-b6ec9fc67236"
      },
      "execution_count": 44,
      "outputs": [
        {
          "output_type": "stream",
          "name": "stdout",
          "text": [
            "원본 문자열 ==>aBC\n",
            "Abc\n"
          ]
        }
      ]
    }
  ]
}