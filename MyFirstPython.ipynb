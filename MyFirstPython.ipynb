{
  "nbformat": 4,
  "nbformat_minor": 0,
  "metadata": {
    "colab": {
      "name": "MyFirstPython",
      "provenance": [],
      "collapsed_sections": [],
      "authorship_tag": "ABX9TyPnYNAttI6H33CEh/8V6hkH",
      "include_colab_link": true
    },
    "kernelspec": {
      "name": "python3",
      "display_name": "Python 3"
    },
    "language_info": {
      "name": "python"
    }
  },
  "cells": [
    {
      "cell_type": "markdown",
      "metadata": {
        "id": "view-in-github",
        "colab_type": "text"
      },
      "source": [
        "<a href=\"https://colab.research.google.com/github/slowspeedup/LEEDONG/blob/main/MyFirstPython.ipynb\" target=\"_parent\"><img src=\"https://colab.research.google.com/assets/colab-badge.svg\" alt=\"Open In Colab\"/></a>"
      ]
    },
    {
      "cell_type": "code",
      "source": [
        "#나의 첫 파이썬 프로그래밍"
      ],
      "metadata": {
        "id": "u4cd8KbfPX8g"
      },
      "execution_count": null,
      "outputs": []
    },
    {
      "cell_type": "code",
      "source": [
        "print(\"컴퓨터과 3학년 3반 16번 이동민\");"
      ],
      "metadata": {
        "id": "bYg-PQ36Pg_Y"
      },
      "execution_count": null,
      "outputs": []
    }
  ]
}