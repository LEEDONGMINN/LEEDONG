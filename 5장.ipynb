{
  "nbformat": 4,
  "nbformat_minor": 0,
  "metadata": {
    "colab": {
      "provenance": [],
      "collapsed_sections": [],
      "authorship_tag": "ABX9TyOzfPaImYF/UZj+oCbX8Dd7",
      "include_colab_link": true
    },
    "kernelspec": {
      "name": "python3",
      "display_name": "Python 3"
    },
    "language_info": {
      "name": "python"
    }
  },
  "cells": [
    {
      "cell_type": "markdown",
      "metadata": {
        "id": "view-in-github",
        "colab_type": "text"
      },
      "source": [
        "<a href=\"https://colab.research.google.com/github/LEEDONGMINN/LEEDONG/blob/main/5%EC%9E%A5.ipynb\" target=\"_parent\"><img src=\"https://colab.research.google.com/assets/colab-badge.svg\" alt=\"Open In Colab\"/></a>"
      ]
    },
    {
      "cell_type": "markdown",
      "source": [
        "if문"
      ],
      "metadata": {
        "id": "KF68B79L0g2e"
      }
    },
    {
      "cell_type": "code",
      "execution_count": 1,
      "metadata": {
        "colab": {
          "base_uri": "https://localhost:8080/"
        },
        "id": "ytMz8iNdzerB",
        "outputId": "9c4bc333-12c7-4951-dadc-a62b0f8e6578"
      },
      "outputs": [
        {
          "output_type": "stream",
          "name": "stdout",
          "text": [
            "100보다 작습니다.\n"
          ]
        }
      ],
      "source": [
        "num = 99;\n",
        "if num < 100 :\n",
        "  print(\"100보다 작습니다.\")"
      ]
    },
    {
      "cell_type": "code",
      "source": [
        "num = 200\n",
        "if num > 100 :\n",
        "  print(\"100보다\")\n",
        "  print(\"큽니다\")\n",
        "  print(\"프로그램 끝\")"
      ],
      "metadata": {
        "colab": {
          "base_uri": "https://localhost:8080/"
        },
        "id": "JlFDKnYg3XoV",
        "outputId": "d2e36d3c-e105-4d06-a8e6-651ee090fc45"
      },
      "execution_count": 2,
      "outputs": [
        {
          "output_type": "stream",
          "name": "stdout",
          "text": [
            "100보다\n",
            "큽니다\n",
            "프로그램 끝\n"
          ]
        }
      ]
    },
    {
      "cell_type": "code",
      "source": [
        "num = 200\n",
        "if num < 100 :\n",
        "  print(\"100보다 작으군요\")\n",
        "else :\n",
        "  print(\"100보다 크군요\")"
      ],
      "metadata": {
        "colab": {
          "base_uri": "https://localhost:8080/"
        },
        "id": "oAck0ZZa4rbN",
        "outputId": "0f78f846-c9e6-45e0-8735-4997b0d78203"
      },
      "execution_count": 3,
      "outputs": [
        {
          "output_type": "stream",
          "name": "stdout",
          "text": [
            "100보다 크군요\n"
          ]
        }
      ]
    },
    {
      "cell_type": "code",
      "source": [
        "x = int(input(\"첫번째 수 : \"))\n",
        "if x % 2 == 0 :\n",
        "  print(x ,\"는 짝수\")\n",
        "else :\n",
        "  print(x , \"는 홀수\")"
      ],
      "metadata": {
        "colab": {
          "base_uri": "https://localhost:8080/"
        },
        "id": "VjKA3mor4zST",
        "outputId": "8adde322-5e8d-4574-be23-4cfd1ffe7e69"
      },
      "execution_count": 5,
      "outputs": [
        {
          "output_type": "stream",
          "name": "stdout",
          "text": [
            "첫번째 수 : 50\n",
            "50 는 짝수\n"
          ]
        }
      ]
    },
    {
      "cell_type": "code",
      "source": [
        "num = int(input(\"숫자를 입력 ==> \"))\n",
        "\n",
        "if num < 100:\n",
        "    print(\"100보다 작다.\")\n",
        "else:\n",
        "    if num < 1000:\n",
        "        print(\"100보다 크고 1000보다 작다.\")\n",
        "    else:\n",
        "        print(\"1000보다 크다.\")"
      ],
      "metadata": {
        "colab": {
          "base_uri": "https://localhost:8080/"
        },
        "id": "gu5IH3c57TIF",
        "outputId": "de1d6944-b377-47fe-996e-de2d2418b596"
      },
      "execution_count": 10,
      "outputs": [
        {
          "output_type": "stream",
          "name": "stdout",
          "text": [
            "숫자를 입력 ==> 150\n",
            "100보다 크고 1000보다 작다.\n"
          ]
        }
      ]
    },
    {
      "cell_type": "code",
      "source": [
        "score = int(input(\"점수 : \"))\n",
        "if score >= 90 :\n",
        "  print(\"A\")\n",
        "else :\n",
        "  if score >= 80 :\n",
        "    print(\"B\")\n",
        "  else :\n",
        "    if score >= 70 :\n",
        "      print(\"C\")\n",
        "    else :\n",
        "      if score >= 60:\n",
        "        print(\"D\")\n",
        "      else :\n",
        "        print(\"Fy\")"
      ],
      "metadata": {
        "colab": {
          "base_uri": "https://localhost:8080/"
        },
        "id": "c2x6wZNQ_13N",
        "outputId": "9bbf9ba0-57f9-4c10-a79d-71e5829e93a3"
      },
      "execution_count": 14,
      "outputs": [
        {
          "output_type": "stream",
          "name": "stdout",
          "text": [
            "점수 : 75\n",
            "C\n"
          ]
        }
      ]
    }
  ]
}