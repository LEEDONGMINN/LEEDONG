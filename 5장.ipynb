{
  "nbformat": 4,
  "nbformat_minor": 0,
  "metadata": {
    "colab": {
      "provenance": [],
      "collapsed_sections": [],
      "authorship_tag": "ABX9TyOWzzcrXWfWdShAHmYP2BTS",
      "include_colab_link": true
    },
    "kernelspec": {
      "name": "python3",
      "display_name": "Python 3"
    },
    "language_info": {
      "name": "python"
    }
  },
  "cells": [
    {
      "cell_type": "markdown",
      "metadata": {
        "id": "view-in-github",
        "colab_type": "text"
      },
      "source": [
        "<a href=\"https://colab.research.google.com/github/LEEDONGMINN/LEEDONG/blob/main/5%EC%9E%A5.ipynb\" target=\"_parent\"><img src=\"https://colab.research.google.com/assets/colab-badge.svg\" alt=\"Open In Colab\"/></a>"
      ]
    },
    {
      "cell_type": "markdown",
      "source": [
        "if문"
      ],
      "metadata": {
        "id": "KF68B79L0g2e"
      }
    },
    {
      "cell_type": "code",
      "execution_count": 1,
      "metadata": {
        "colab": {
          "base_uri": "https://localhost:8080/"
        },
        "id": "ytMz8iNdzerB",
        "outputId": "9c4bc333-12c7-4951-dadc-a62b0f8e6578"
      },
      "outputs": [
        {
          "output_type": "stream",
          "name": "stdout",
          "text": [
            "100보다 작습니다.\n"
          ]
        }
      ],
      "source": [
        "num = 99;\n",
        "if num < 100 :\n",
        "  print(\"100보다 작습니다.\")"
      ]
    },
    {
      "cell_type": "code",
      "source": [
        "num = 200\n",
        "if num > 100 :\n",
        "  print(\"100보다\")\n",
        "  print(\"큽니다\")\n",
        "  print(\"프로그램 끝\")"
      ],
      "metadata": {
        "colab": {
          "base_uri": "https://localhost:8080/"
        },
        "id": "JlFDKnYg3XoV",
        "outputId": "d2e36d3c-e105-4d06-a8e6-651ee090fc45"
      },
      "execution_count": 2,
      "outputs": [
        {
          "output_type": "stream",
          "name": "stdout",
          "text": [
            "100보다\n",
            "큽니다\n",
            "프로그램 끝\n"
          ]
        }
      ]
    },
    {
      "cell_type": "code",
      "source": [
        "num = 200\n",
        "if num < 100 :\n",
        "  print(\"100보다 작으군요\")\n",
        "else :\n",
        "  print(\"100보다 크군요\")"
      ],
      "metadata": {
        "colab": {
          "base_uri": "https://localhost:8080/"
        },
        "id": "oAck0ZZa4rbN",
        "outputId": "0f78f846-c9e6-45e0-8735-4997b0d78203"
      },
      "execution_count": 3,
      "outputs": [
        {
          "output_type": "stream",
          "name": "stdout",
          "text": [
            "100보다 크군요\n"
          ]
        }
      ]
    },
    {
      "cell_type": "code",
      "source": [
        "x = int(input(\"첫번째 수 : \"))\n",
        "if x % 2 == 0 :\n",
        "  print(x ,\"는 짝수\")\n",
        "else :\n",
        "  print(x , \"는 홀수\")"
      ],
      "metadata": {
        "colab": {
          "base_uri": "https://localhost:8080/"
        },
        "id": "VjKA3mor4zST",
        "outputId": "8adde322-5e8d-4574-be23-4cfd1ffe7e69"
      },
      "execution_count": 5,
      "outputs": [
        {
          "output_type": "stream",
          "name": "stdout",
          "text": [
            "첫번째 수 : 50\n",
            "50 는 짝수\n"
          ]
        }
      ]
    },
    {
      "cell_type": "code",
      "source": [
        "num = int(input(\"숫자를 입력 ==> \"))\n",
        "\n",
        "if num < 100:\n",
        "    print(\"100보다 작다.\")\n",
        "else:\n",
        "    if num < 1000:\n",
        "        print(\"100보다 크고 1000보다 작다.\")\n",
        "    else:\n",
        "        print(\"1000보다 크다.\")"
      ],
      "metadata": {
        "colab": {
          "base_uri": "https://localhost:8080/"
        },
        "id": "gu5IH3c57TIF",
        "outputId": "de1d6944-b377-47fe-996e-de2d2418b596"
      },
      "execution_count": 10,
      "outputs": [
        {
          "output_type": "stream",
          "name": "stdout",
          "text": [
            "숫자를 입력 ==> 150\n",
            "100보다 크고 1000보다 작다.\n"
          ]
        }
      ]
    },
    {
      "cell_type": "code",
      "source": [
        "score = int(input(\"점수 : \"))\n",
        "if score >= 90 :\n",
        "  print(\"A\")\n",
        "else :\n",
        "  if score >= 80 :\n",
        "    print(\"B\")\n",
        "  else :\n",
        "    if score >= 70 :\n",
        "      print(\"C\")\n",
        "    else :\n",
        "      if score >= 60:\n",
        "        print(\"D\")\n",
        "      else :\n",
        "        print(\"Fy\")"
      ],
      "metadata": {
        "colab": {
          "base_uri": "https://localhost:8080/"
        },
        "id": "c2x6wZNQ_13N",
        "outputId": "9bbf9ba0-57f9-4c10-a79d-71e5829e93a3"
      },
      "execution_count": 14,
      "outputs": [
        {
          "output_type": "stream",
          "name": "stdout",
          "text": [
            "점수 : 75\n",
            "C\n"
          ]
        }
      ]
    },
    {
      "cell_type": "code",
      "source": [
        "score = int(input(\"점수를 입력 \"))\n",
        "if score >= 90 :\n",
        "  print(\"A\")\n",
        "elif score >= 80 :\n",
        "  print(\"B\")\n",
        "elif score >= 90 :\n",
        "  print(\"A\")\n",
        "elif score >= 70 :\n",
        "  print(\"C\")\n",
        "elif score >= 60 :\n",
        "  print(\"D\")\n",
        "else :\n",
        "  print(\"F\")   "
      ],
      "metadata": {
        "colab": {
          "base_uri": "https://localhost:8080/"
        },
        "id": "_OU8KZTUC-pa",
        "outputId": "e7502cb0-4ef4-4552-9794-b852c27afa61"
      },
      "execution_count": 15,
      "outputs": [
        {
          "output_type": "stream",
          "name": "stdout",
          "text": [
            "점수를 입력75\n",
            "C\n"
          ]
        }
      ]
    },
    {
      "cell_type": "code",
      "source": [
        "import random\n",
        "\n",
        "rnd = random.randint(1,45)\n",
        "lunch = random.choice([\"짜장면\",\"라면\",\"김밥\",\"짬뽕\"])\n",
        "\n",
        "print(rnd)\n",
        "print(lunch)"
      ],
      "metadata": {
        "colab": {
          "base_uri": "https://localhost:8080/"
        },
        "id": "hJ673dasFSaC",
        "outputId": "a60f3c03-970f-4f09-a935-ce1151282ca4"
      },
      "execution_count": 18,
      "outputs": [
        {
          "output_type": "stream",
          "name": "stdout",
          "text": [
            "40\n",
            "김밥\n"
          ]
        }
      ]
    },
    {
      "cell_type": "markdown",
      "source": [
        "가위바위보 게임"
      ],
      "metadata": {
        "id": "Q3-GlFt6GmeS"
      }
    },
    {
      "cell_type": "code",
      "source": [
        "import random\n",
        "\n",
        "com_player = random.choice([\"가위\",\"바위\",\"보\"])\n",
        "print(\"가위 바위 보 게임\")\n",
        "player = input(\" : \")\n",
        "if com_player == player :\n",
        "  print(\"비겼다\")\n",
        "elif com_player == \"가위\" and player == \"보\" :\n",
        "  print(\"졌다\")\n",
        "elif com_player == \"바위\" and player == \"가위\" :\n",
        "  print(\"졌다\")\n",
        "elif com_player == \"보\" and player == \"바위\" :\n",
        "  print(\"졌다\")\n",
        "elif com_player == \"보\" and player == \"가위\" :\n",
        "  print(\"이겼다\")\n",
        "elif com_player == \"가위\" and player == \"바위\" :\n",
        "  print(\"이겼다\")\n",
        "elif com_player == \"바위\" and player == \"보\" :\n",
        "  print(\"이겼다\")"
      ],
      "metadata": {
        "colab": {
          "base_uri": "https://localhost:8080/"
        },
        "id": "gVhaNf-tGgpj",
        "outputId": "1f4eb920-2c99-4e0f-a9fa-9d8f81e89530"
      },
      "execution_count": 34,
      "outputs": [
        {
          "output_type": "stream",
          "name": "stdout",
          "text": [
            "가위 바위 보 게임\n",
            " : 가위\n",
            "이겼다\n"
          ]
        }
      ]
    },
    {
      "cell_type": "code",
      "source": [
        "import random\n",
        "\n",
        "com_plyaer , user , count = \"\", \"\", 1\n",
        "com_count ,usr_count , draw_count = 0, 0, 0\n",
        "\n",
        "def result() :\n",
        "  global com_count, usr_count, draw_count\n",
        "  if com_player == user :\n",
        "    print(count, \"번째 : \" + \"비겼다.\")\n",
        "    draw_count += 1\n",
        "  elif ((com_player == \"가위\") and (user == \"바위\")) or \\\n",
        "  ((com_player == \"바위\") and (user == \"보\")) or \\\n",
        "  ((com_player == \"보\") and (user == \"가위\")) :\n",
        "    print(count, \"번째 : \" + \"이겼다.\")\n",
        "    usr_count += 1\n",
        "  else :\n",
        "    print(count, \"번째 : \" + \"졌다\")\n",
        "    com_count += 1\n",
        "\n",
        "print(\" [가위/바위/보] 게임 \")\n",
        "\n",
        "while count != 8 :\n",
        "  com_player = random.choice([\"가위\", \"바위\", \"보\"])\n",
        "  user = input(\"가위/바위/보 중 하나 입력 : \")\n",
        "  result()\n",
        "  count = count + 1\n",
        "\n",
        "print(\"-최종 스코어-\")\n",
        "print(\"컴퓨터 : \", com_count)\n",
        "print(\"사용자 : \", usr_count)\n",
        "print(\"비김 : \", draw_count)\n"
      ],
      "metadata": {
        "id": "2fz_upsLYz1H"
      },
      "execution_count": null,
      "outputs": []
    },
    {
      "cell_type": "code",
      "source": [
        "age = int(input(\"나이를 입력 ==> \"))\n",
        "\n",
        "if age < 19:\n",
        "    print(\"집에 갈 시간이네요.\")\n",
        "else:\n",
        "    print(\"성인이네요.\")\n",
        "print(\"협조 감사합니다.\")"
      ],
      "metadata": {
        "id": "3MZfIk9m6XBp"
      },
      "execution_count": null,
      "outputs": []
    },
    {
      "cell_type": "code",
      "source": [
        "import ColabTurtle.Turtle as turtle\n",
        "import random\n",
        "\n",
        "turtle.initializeTurtle()\n",
        "\n",
        "# home pos\n",
        "# x = 400\n",
        "# y = 250\n",
        "\n",
        "# height = 500\n",
        "# width = 800\n",
        "\n",
        "turtle.home()\n",
        "\n",
        "while 1:\n",
        "    turtle.pendown()\n",
        "\n",
        "    r = random.randint(0, 255)\n",
        "    g = random.randint(0, 255)\n",
        "    b = random.randint(0, 255)\n",
        "\n",
        "    turtle.color(r, g, b)\n",
        "    turtle.right(random.randint(1, 360))\n",
        "    turtle.forward(random.randint(1, 300))\n",
        "\n",
        "    if turtle.xcor() >= 800 or turtle.xcor() <= 0 or turtle.ycor() >= 500 or turtle.ycor() <= 0:\n",
        "        turtle.penup()\n",
        "        turtle.home()\n",
        "        # break"
      ],
      "metadata": {
        "id": "qOChQG_OdzyN"
      },
      "execution_count": null,
      "outputs": []
    }
  ]
}