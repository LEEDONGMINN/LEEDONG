{
  "nbformat": 4,
  "nbformat_minor": 0,
  "metadata": {
    "colab": {
      "provenance": [],
      "authorship_tag": "ABX9TyPk4qWA25wtEZAx2T7EoJxt",
      "include_colab_link": true
    },
    "kernelspec": {
      "name": "python3",
      "display_name": "Python 3"
    },
    "language_info": {
      "name": "python"
    }
  },
  "cells": [
    {
      "cell_type": "markdown",
      "metadata": {
        "id": "view-in-github",
        "colab_type": "text"
      },
      "source": [
        "<a href=\"https://colab.research.google.com/github/LEEDONGMINN/LEEDONG/blob/main/%EC%9D%B4%EB%8F%99%EB%AF%BC_%EC%88%98%ED%96%89.ipynb\" target=\"_parent\"><img src=\"https://colab.research.google.com/assets/colab-badge.svg\" alt=\"Open In Colab\"/></a>"
      ]
    },
    {
      "cell_type": "code",
      "execution_count": 6,
      "metadata": {
        "colab": {
          "base_uri": "https://localhost:8080/"
        },
        "id": "T5iUSxbTkWTO",
        "outputId": "ca1d882f-e3eb-4ea9-b8f0-6cb3450286e0"
      },
      "outputs": [
        {
          "output_type": "stream",
          "name": "stdout",
          "text": [
            "원본 문자열 ==> Python\n",
            "변환 문자열 ==> pYTHON\n"
          ]
        }
      ],
      "source": [
        "text = 'Python'\n",
        "print(\"원본 문자열 ==> \" + text)\n",
        "\n",
        "print(\"변환 문자열 ==> \" + text.swapcase())"
      ]
    },
    {
      "cell_type": "code",
      "source": [
        "string = '트와이스'\n",
        "reversed_str = ''\n",
        "for i in string:\n",
        "    reversed_str = i + reversed_str\n",
        "\n",
        "print(f'원본 문자열 ==> {string}')\n",
        "print(f'변환 문자열 ==> {reversed_str}')"
      ],
      "metadata": {
        "colab": {
          "base_uri": "https://localhost:8080/"
        },
        "id": "T9U8Cr1GkYsn",
        "outputId": "9c6cd7bf-5d3d-46fe-c79b-27d35bbbb4df"
      },
      "execution_count": 16,
      "outputs": [
        {
          "output_type": "stream",
          "name": "stdout",
          "text": [
            "원본 문자열 ==> 트와이스\n",
            "변환 문자열 ==> 스이와트\n"
          ]
        }
      ]
    }
  ]
}