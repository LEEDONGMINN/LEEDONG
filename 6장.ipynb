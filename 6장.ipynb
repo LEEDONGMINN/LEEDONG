{
  "nbformat": 4,
  "nbformat_minor": 0,
  "metadata": {
    "colab": {
      "provenance": [],
      "collapsed_sections": [],
      "authorship_tag": "ABX9TyPoPTYT4zTR/G1zRgH3SVJb",
      "include_colab_link": true
    },
    "kernelspec": {
      "name": "python3",
      "display_name": "Python 3"
    },
    "language_info": {
      "name": "python"
    }
  },
  "cells": [
    {
      "cell_type": "markdown",
      "metadata": {
        "id": "view-in-github",
        "colab_type": "text"
      },
      "source": [
        "<a href=\"https://colab.research.google.com/github/LEEDONGMINN/LEEDONG/blob/main/6%EC%9E%A5.ipynb\" target=\"_parent\"><img src=\"https://colab.research.google.com/assets/colab-badge.svg\" alt=\"Open In Colab\"/></a>"
      ]
    },
    {
      "cell_type": "markdown",
      "source": [
        "6장 예제"
      ],
      "metadata": {
        "id": "8kzts_ZdKxWk"
      }
    },
    {
      "cell_type": "code",
      "execution_count": 1,
      "metadata": {
        "colab": {
          "base_uri": "https://localhost:8080/"
        },
        "id": "fo6v5GNbKVZo",
        "outputId": "2bb023e8-f3d0-4619-db0d-822c5ea0fdbc"
      },
      "outputs": [
        {
          "output_type": "stream",
          "name": "stdout",
          "text": [
            "안산공고 컴퓨터과 최악\n",
            "응애\n",
            "안산공고 컴퓨터과 최악\n",
            "응애\n",
            "안산공고 컴퓨터과 최악\n",
            "응애\n"
          ]
        }
      ],
      "source": [
        "for i in range(3) :\n",
        "  print(\"안산공고 컴퓨터과 최악\")\n",
        "  print (\"응애\")"
      ]
    },
    {
      "cell_type": "code",
      "source": [
        "fact = 1\n",
        "\n",
        "for i in range(1,6,1) :\n",
        "  fact = fact * i\n",
        "print(fact)"
      ],
      "metadata": {
        "colab": {
          "base_uri": "https://localhost:8080/"
        },
        "id": "Gzbsyz2_LUs7",
        "outputId": "e14f8a7f-5754-45fb-c28c-bdcce87966a0"
      },
      "execution_count": 4,
      "outputs": [
        {
          "output_type": "stream",
          "name": "stdout",
          "text": [
            "120\n"
          ]
        }
      ]
    },
    {
      "cell_type": "markdown",
      "source": [
        "1부터 10까지 더하기"
      ],
      "metadata": {
        "id": "5RGH2SyBPLzh"
      }
    },
    {
      "cell_type": "code",
      "source": [
        "hap = 0\n",
        "\n",
        "for i in range(1,11,1) :\n",
        "  hap = hap + i\n",
        "print(hap)"
      ],
      "metadata": {
        "colab": {
          "base_uri": "https://localhost:8080/"
        },
        "id": "0RqQU7DBPNVN",
        "outputId": "43025e50-d979-49d1-d141-95dc71efe004"
      },
      "execution_count": 5,
      "outputs": [
        {
          "output_type": "stream",
          "name": "stdout",
          "text": [
            "55\n"
          ]
        }
      ]
    },
    {
      "cell_type": "code",
      "source": [
        "i, hap = 0,0\n",
        "\n",
        "for i in range(1001,2001,2) :\n",
        "  hap += i\n",
        "\n",
        "print(\"1000부터 2000까지의 합 : \",hap)"
      ],
      "metadata": {
        "colab": {
          "base_uri": "https://localhost:8080/"
        },
        "id": "fej8sQuRPuyx",
        "outputId": "20f573e9-554d-413b-ced8-2736924d772b"
      },
      "execution_count": 7,
      "outputs": [
        {
          "output_type": "stream",
          "name": "stdout",
          "text": [
            "1000부터 2000까지의 합 :  750000\n"
          ]
        }
      ]
    },
    {
      "cell_type": "markdown",
      "source": [
        "중첩 for문"
      ],
      "metadata": {
        "id": "L-l32DB-Qhhj"
      }
    },
    {
      "cell_type": "code",
      "source": [
        "for i in range(3) :\n",
        "  for k in range(2) :\n",
        "    print(\"난생처음은 없습니다.\")"
      ],
      "metadata": {
        "colab": {
          "base_uri": "https://localhost:8080/"
        },
        "id": "UbkKmXI3Qipx",
        "outputId": "dd2dbb57-a495-4fe9-eb57-06aaebf2bc8f"
      },
      "execution_count": 8,
      "outputs": [
        {
          "output_type": "stream",
          "name": "stdout",
          "text": [
            "난생처음은 없습ㄴ다.\n",
            "난생처음은 없습ㄴ다.\n",
            "난생처음은 없습ㄴ다.\n",
            "난생처음은 없습ㄴ다.\n",
            "난생처음은 없습ㄴ다.\n",
            "난생처음은 없습ㄴ다.\n"
          ]
        }
      ]
    },
    {
      "cell_type": "markdown",
      "source": [
        "구구단"
      ],
      "metadata": {
        "id": "k6ODKQLxUVDK"
      }
    },
    {
      "cell_type": "code",
      "source": [
        "i = 0\n",
        "j = 0\n",
        "\n",
        "for i in range(2,10) :\n",
        "  for j in range(1,10) :\n",
        "    print(i,\"X\",j,\"=\",i*j)\n",
        "print(\"\")\n"
      ],
      "metadata": {
        "colab": {
          "base_uri": "https://localhost:8080/"
        },
        "id": "uAbx-82YUVvY",
        "outputId": "9eac43b1-13a0-459d-e875-ee63124aff29"
      },
      "execution_count": 12,
      "outputs": [
        {
          "output_type": "stream",
          "name": "stdout",
          "text": [
            "2 X 1 = 2\n",
            "2 X 2 = 4\n",
            "2 X 3 = 6\n",
            "2 X 4 = 8\n",
            "2 X 5 = 10\n",
            "2 X 6 = 12\n",
            "2 X 7 = 14\n",
            "2 X 8 = 16\n",
            "2 X 9 = 18\n",
            "3 X 1 = 3\n",
            "3 X 2 = 6\n",
            "3 X 3 = 9\n",
            "3 X 4 = 12\n",
            "3 X 5 = 15\n",
            "3 X 6 = 18\n",
            "3 X 7 = 21\n",
            "3 X 8 = 24\n",
            "3 X 9 = 27\n",
            "4 X 1 = 4\n",
            "4 X 2 = 8\n",
            "4 X 3 = 12\n",
            "4 X 4 = 16\n",
            "4 X 5 = 20\n",
            "4 X 6 = 24\n",
            "4 X 7 = 28\n",
            "4 X 8 = 32\n",
            "4 X 9 = 36\n",
            "5 X 1 = 5\n",
            "5 X 2 = 10\n",
            "5 X 3 = 15\n",
            "5 X 4 = 20\n",
            "5 X 5 = 25\n",
            "5 X 6 = 30\n",
            "5 X 7 = 35\n",
            "5 X 8 = 40\n",
            "5 X 9 = 45\n",
            "6 X 1 = 6\n",
            "6 X 2 = 12\n",
            "6 X 3 = 18\n",
            "6 X 4 = 24\n",
            "6 X 5 = 30\n",
            "6 X 6 = 36\n",
            "6 X 7 = 42\n",
            "6 X 8 = 48\n",
            "6 X 9 = 54\n",
            "7 X 1 = 7\n",
            "7 X 2 = 14\n",
            "7 X 3 = 21\n",
            "7 X 4 = 28\n",
            "7 X 5 = 35\n",
            "7 X 6 = 42\n",
            "7 X 7 = 49\n",
            "7 X 8 = 56\n",
            "7 X 9 = 63\n",
            "8 X 1 = 8\n",
            "8 X 2 = 16\n",
            "8 X 3 = 24\n",
            "8 X 4 = 32\n",
            "8 X 5 = 40\n",
            "8 X 6 = 48\n",
            "8 X 7 = 56\n",
            "8 X 8 = 64\n",
            "8 X 9 = 72\n",
            "9 X 1 = 9\n",
            "9 X 2 = 18\n",
            "9 X 3 = 27\n",
            "9 X 4 = 36\n",
            "9 X 5 = 45\n",
            "9 X 6 = 54\n",
            "9 X 7 = 63\n",
            "9 X 8 = 72\n",
            "9 X 9 = 81\n",
            "\n"
          ]
        }
      ]
    },
    {
      "cell_type": "code",
      "source": [
        "for i in range(0,3,1) :\n",
        "  print(i, \": 난생처음 파이썬은 재미없습니다.\")\n",
        "\n",
        "i = 0\n",
        "while (i < 3) :\n",
        "  print(i,\": 난생처음 파이썬은 재미없습니다.\")\n",
        "  i = i + 1"
      ],
      "metadata": {
        "colab": {
          "base_uri": "https://localhost:8080/"
        },
        "id": "DCnqYjndWVC7",
        "outputId": "ed43ba70-872d-4378-832b-425d4f25f25a"
      },
      "execution_count": 14,
      "outputs": [
        {
          "output_type": "stream",
          "name": "stdout",
          "text": [
            "0 : 난생처음 파이썬은 재미없습니다.\n",
            "1 : 난생처음 파이썬은 재미없습니다.\n",
            "2 : 난생처음 파이썬은 재미없습니다.\n",
            "0 : 난생처음 파이썬은 재미없습니다.\n",
            "1 : 난생처음 파이썬은 재미없습니다.\n",
            "2 : 난생처음 파이썬은 재미없습니다.\n"
          ]
        }
      ]
    },
    {
      "cell_type": "code",
      "source": [
        "hap = 0\n",
        "num1, num2 = 0,0\n",
        "\n",
        "while True :\n",
        "  num1 = int(input(\"숫자1 ==> \"))\n",
        "  num2 = int(input(\"숫자2 ==> \"))\n",
        "\n",
        "  hap = num1 + num2\n",
        "  print(num1,\"+\",num2,\"=\",hap)\n",
        "  if num1 == 0 :\n",
        "   break;"
      ],
      "metadata": {
        "colab": {
          "base_uri": "https://localhost:8080/"
        },
        "id": "IsQoSaxhVt7o",
        "outputId": "92739b4f-fcd7-4289-b017-0be10b48d2eb"
      },
      "execution_count": 18,
      "outputs": [
        {
          "output_type": "stream",
          "name": "stdout",
          "text": [
            "숫자1 ==> 0\n",
            "숫자2 ==> 2\n",
            "0 + 2 = 2\n"
          ]
        }
      ]
    },
    {
      "cell_type": "code",
      "source": [
        "import random\n",
        "\n",
        "a,b,c,count = 0,0,0,0\n",
        "\n",
        "while True :\n",
        "  a = random.randint(1,6)\n",
        "  count = count + 1\n",
        "  b = random.randint(1,6)\n",
        "  count = count + 1\n",
        "  c = random.randint(1,6)\n",
        "  count = count + 1\n",
        "  if(a == b == c) :\n",
        "    print(a,b,c,\"다 같은 주사위 \",count,\"번 던졌다\")\n",
        "    break;\n",
        "  \n"
      ],
      "metadata": {
        "colab": {
          "base_uri": "https://localhost:8080/"
        },
        "id": "f29TQ7q1ZhNy",
        "outputId": "925fb794-4991-4a0d-82a7-35e1f2ca8c00"
      },
      "execution_count": 23,
      "outputs": [
        {
          "output_type": "stream",
          "name": "stdout",
          "text": [
            "6 6 6 다 같은 주사위  72 번 던졌다\n"
          ]
        }
      ]
    },
    {
      "cell_type": "code",
      "source": [
        "import random\n",
        "count = 1\n",
        "com = random.randint(1,5)\n",
        "user = 0\n",
        "while True :\n",
        "  print(count,\"회 게임\")\n",
        "  \n",
        "  user = int(input(\"게임 컴퓨터가 생각한 숫자는? : \"))\n",
        "  if user == com :\n",
        "    print(count,\"번 만에 맞췼습니다\")\n",
        "    break;\n",
        "  else :\n",
        "    print(\"틀렸습니다.\")\n",
        "    count = count + 1"
      ],
      "metadata": {
        "colab": {
          "base_uri": "https://localhost:8080/"
        },
        "id": "KwTFR45Wc_MQ",
        "outputId": "c68a9733-0787-4ec5-b485-fce6e8804573"
      },
      "execution_count": 40,
      "outputs": [
        {
          "output_type": "stream",
          "name": "stdout",
          "text": [
            "1 회 게임\n",
            "게임 컴퓨터가 생각한 숫자는? : 3\n",
            "틀렸습니다.\n",
            "2 회 게임\n",
            "게임 컴퓨터가 생각한 숫자는? : 2\n",
            "틀렸습니다.\n",
            "3 회 게임\n",
            "게임 컴퓨터가 생각한 숫자는? : 4\n",
            "틀렸습니다.\n",
            "4 회 게임\n",
            "게임 컴퓨터가 생각한 숫자는? : 5\n",
            "4 번 만에 맞췼습니다\n"
          ]
        }
      ]
    }
  ]
}